{
 "cells": [
  {
   "cell_type": "code",
   "execution_count": 76,
   "metadata": {},
   "outputs": [],
   "source": [
    "import numpy as np\n",
    "import matplotlib.pyplot as plt\n",
    "import tensorflow as tf\n",
    "import pandas as pd\n",
    "import blahut"
   ]
  },
  {
   "cell_type": "code",
   "execution_count": 2,
   "metadata": {},
   "outputs": [],
   "source": [
    "def get_raw_data(path):\n",
    "    \"\"\"\n",
    "    Load raw data from a path.\n",
    "    Parameters\n",
    "    ----------\n",
    "    path : str\n",
    "        Absolute path to the data.\n",
    "    Returns\n",
    "    -------\n",
    "    Vs : np.array, shape (len(data),)\n",
    "    Rs : np.array, shape (len(data),)\n",
    "    \"\"\"\n",
    "    data = pd.read_pickle(path)\n",
    "    Vs = np.array(data['V'])\n",
    "    Rs = np.array(data['R'])\n",
    "    return Vs,Rs\n",
    "\n",
    "def range_extender(Vs, Rs, num_ext):\n",
    "    \"\"\"\n",
    "    Extends the range of the memristor function so that the min and max R values are\n",
    "    repeated num_ext times past min and max V\n",
    "    Parameters\n",
    "    ----------\n",
    "    Vs : np.array, shape (len(data),)\n",
    "    Rs : np.array, shape (len(data),)\n",
    "    num_ext : float\n",
    "        Number of times the end values should be repeated\n",
    "    \"\"\"\n",
    "    num_ext = int(num_ext)\n",
    "    Vs = np.array(Vs)\n",
    "    Rs = np.array(Rs)\n",
    "    delta_V = Vs[1]-Vs[0]\n",
    "    orig_min_Vs = np.amin(Vs)\n",
    "    orig_max_Vs = np.amax(Vs)\n",
    "    for i in range(num_ext):\n",
    "        min_Vs = np.amin(Vs)\n",
    "        max_Vs = np.amax(Vs)\n",
    "        min_Vs_indx = [Vs == min_Vs]\n",
    "        max_Vs_indx = [Vs == max_Vs]\n",
    "        Rs_min = Rs[tuple(min_Vs_indx)]\n",
    "        Rs_max = Rs[tuple(max_Vs_indx)]\n",
    "        Vs_min = Vs[tuple(min_Vs_indx)] - delta_V\n",
    "        Vs_max = Vs[tuple(max_Vs_indx)] + delta_V\n",
    "        Vs = np.append(Vs,Vs_min)\n",
    "        Vs = np.append(Vs,Vs_max)\n",
    "        Rs = np.append(Rs,Rs_min)\n",
    "        Rs = np.append(Rs,Rs_max)\n",
    "    return Vs, Rs, orig_min_Vs, orig_max_Vs\n",
    "\n",
    "def normalizer(x,new_min,new_max):\n",
    "    x_max = np.amax(x)\n",
    "    x_min = np.amin(x)\n",
    "\n",
    "    return (((x-x_min)/(x_max-x_min))*(new_max-new_min)+new_min)"
   ]
  },
  {
   "cell_type": "code",
   "execution_count": 3,
   "metadata": {},
   "outputs": [],
   "source": [
    "def get_pcm_data(path, n_mem, num_ext=5, norm_min=-1., norm_max=1., synthetic_noise=None):\n",
    "    \"\"\"\n",
    "    Parameters\n",
    "    ----------\n",
    "    path : str\n",
    "        Absolute path to the data.\n",
    "    n_mem : float\n",
    "        Number of memristors we want to simulate\n",
    "    num_ext : float\n",
    "        Number of times the end values should be repeated (see range_extender)\n",
    "    Returns\n",
    "    -------\n",
    "    vs : np.array, shape (n_samp, n_mem)\n",
    "    mus : np.array, shape (n_samp, n_mem)\n",
    "    sigs : np.array, shape (n_samp, n_mem)\n",
    "    orig_min_Vs : float\n",
    "    orig_max_Vs : float\n",
    "    \"\"\"\n",
    "    Vs,Rs = get_raw_data(path)\n",
    "    Rs = np.log10(Rs)\n",
    "    Vs = np.array(Vs)\n",
    "    Rs = np.array(Rs)\n",
    "\n",
    "    orig_min_Vs = np.amin(Vs)\n",
    "    orig_max_Vs = np.amax(Vs)\n",
    "    orig_min_Rs = np.amin(Rs)\n",
    "    orig_max_Rs = np.amax(Rs)\n",
    "\n",
    "    Vs = normalizer(Vs,norm_min,norm_max)\n",
    "    Rs = normalizer(Rs,norm_min,norm_max)\n",
    "\n",
    "    Vs, Rs, _, _ = range_extender(Vs,Rs,num_ext)\n",
    "\n",
    "    mus, variances, vs = blahut.moments(Vs,Rs)\n",
    "    sigs = np.sqrt(variances)\n",
    "\n",
    "\n",
    "    vs = np.broadcast_to(vs[:,None], (vs.size, n_mem)).astype(np.float32)\n",
    "    mus = np.broadcast_to(mus[:,None], (mus.size, n_mem)).astype(np.float32)\n",
    "    sigs = np.broadcast_to(sigs[:,None], (sigs.size, n_mem)).astype(np.float32)\n",
    "\n",
    "    return vs, mus, sigs, orig_min_Vs, orig_max_Vs, orig_min_Rs, orig_max_Rs"
   ]
  },
  {
   "cell_type": "code",
   "execution_count": 4,
   "metadata": {},
   "outputs": [],
   "source": [
    "def gauss_interp(samp, xs, ys, interp_width, ratio=0.75):\n",
    "    \"\"\"\n",
    "    Smoothly interpolates between samples\n",
    "    Parameters\n",
    "    ----------\n",
    "    samp : tf.tensor (batch_size, n_m)\n",
    "    xs : tf.tensor (n_p, n_m)\n",
    "        Grid inputs\n",
    "    ys : tf.tensor (n_p, n_m)\n",
    "        Grid outputs\n",
    "    interp_width : float\n",
    "        Spacing between the xs\n",
    "    Returns\n",
    "    -------\n",
    "    interp_func : tf.tensor (batch_size, n_m)\n",
    "    \"\"\"\n",
    "    #samp_shape = samp.get_shape()\n",
    "    samp = tf.cast(tf.expand_dims(samp, 1), tf.float32)\n",
    "    xs = tf.cast(tf.expand_dims(xs, 0), tf.float32)  # (1, n_p, n_m)\n",
    "    ys = tf.cast(tf.expand_dims(ys, 0), tf.float32)  # (1, n_p, n_m)\n",
    "    sig = (ratio * interp_width).astype(np.float32) # spacing of xs\n",
    "    norm_factor = (np.sqrt(2 * np.pi) * sig / interp_width).astype(np.float32)\n",
    "    norm_factor = np.array(norm_factor, dtype=np.float32)\n",
    "    gauss_mean = tf.subtract(samp, xs)\n",
    "    gauss = tf.exp(tf.multiply(-0.5, tf.divide(tf.square(gauss_mean), tf.square(sig))))\n",
    "    output = tf.reduce_sum(tf.multiply(tf.divide(ys, norm_factor), gauss), axis=[1])\n",
    "    return output\n",
    "\n",
    "def memristor_output(v, eps, vs, mus, sigs, interp_width):\n",
    "    \"\"\"\n",
    "    Parameters\n",
    "    ----------\n",
    "    mu, sig, eps : tf.tensor (batch_size, n_m)\n",
    "        mean, standard deviation, noise\n",
    "\n",
    "    \"\"\"\n",
    "    mean = gauss_interp(v, vs, mus, interp_width)\n",
    "    sdev = gauss_interp(v, vs, sigs, interp_width)\n",
    "    return mean + eps * sdev"
   ]
  },
  {
   "cell_type": "code",
   "execution_count": 5,
   "metadata": {},
   "outputs": [],
   "source": [
    "def normalizer(x,new_min,new_max):\n",
    "    x_max = np.amax(x)\n",
    "    x_min = np.amin(x)\n",
    "\n",
    "    return (((x-x_min)/(x_max-x_min))*(new_max-new_min)+new_min)"
   ]
  },
  {
   "cell_type": "code",
   "execution_count": 6,
   "metadata": {},
   "outputs": [],
   "source": [
    "# need to get v which will be the resistances from the TSMC array that Xin sent (44 sets of these)\n",
    "# then need to drift all of these by (initally) some small amount of time (need to drift all 44*448 values)\n",
    "# can do this by using \"memristor_output\" for v(R_0) term "
   ]
  },
  {
   "cell_type": "code",
   "execution_count": 7,
   "metadata": {},
   "outputs": [],
   "source": [
    "# DON'T WANT TO NORMALIZE DATA BETWEEN -1,1 YET BECAUSE FORMULA XIN GAVE (R_DRIFT_TO_RYAN_2.PPTX, PG 3, STEP 2, 1ST EQ)\n",
    "# ISN'T NORMALIZED \n",
    "# will normalize after Rs have been \"drifted\", right before sending through decoder "
   ]
  },
  {
   "cell_type": "code",
   "execution_count": 8,
   "metadata": {},
   "outputs": [],
   "source": [
    "\"\"\"\n",
    "STRATEGY: \n",
    "- GET THE CORRECTLY NORMALIZED PCM DATA: get_pcm_data(path, n_mem, norm_min, norm_max), WHERE norm_min/norm_max\n",
    "are from what Xin tells me \n",
    "- then use pear vals xin sent me BUT DON\"T USE ANY NORMALIZATION AFTER THE log10()\n",
    "- then use reshaped pear array as the inputs to the \"drift\" function I creat using the equation Xin sent and the\n",
    "\"memristore_output\" for the v(R_0) \n",
    "\"\"\";"
   ]
  },
  {
   "cell_type": "code",
   "execution_count": 9,
   "metadata": {},
   "outputs": [
    {
     "name": "stdout",
     "output_type": "stream",
     "text": [
      "3.97481706566 6.72124639905\n"
     ]
    }
   ],
   "source": [
    "# getting v from pear array xin sent #\n",
    "pear_array = np.load(\"../pear_test_Resistance.npy\")\n",
    "\n",
    "pear_array = np.log10(pear_array)\n",
    "\n",
    "# THESE ARE THE MIN AND MAX FOR THE MEASURED VALUES, NOT THE INPUTS...IT'S LIKELY THAT THE MIN/MAX INPUTS ARE IN SMALLER RANGE\n",
    "print(np.amin(pear_array), np.amax(pear_array))"
   ]
  },
  {
   "cell_type": "code",
   "execution_count": 10,
   "metadata": {},
   "outputs": [
    {
     "data": {
      "text/plain": [
       "(44, 4, 4, 28)"
      ]
     },
     "execution_count": 10,
     "metadata": {},
     "output_type": "execute_result"
    }
   ],
   "source": [
    "pear_array.shape"
   ]
  },
  {
   "cell_type": "code",
   "execution_count": 11,
   "metadata": {},
   "outputs": [],
   "source": [
    "feature_h, feature_w, feature_c = pear_array.shape[1:]"
   ]
  },
  {
   "cell_type": "code",
   "execution_count": 12,
   "metadata": {},
   "outputs": [],
   "source": [
    "for i in range(len(pear_array)):\n",
    "    pear_array[i] = np.reshape(normalizer(pear_array[i].ravel(), 3.97, 6.7), (feature_h, feature_w, feature_c))"
   ]
  },
  {
   "cell_type": "code",
   "execution_count": 13,
   "metadata": {},
   "outputs": [
    {
     "data": {
      "image/png": "[encoded data removed]",
      "text/plain": [
       "<matplotlib.figure.Figure at 0x120b755f8>"
      ]
     },
     "metadata": {},
     "output_type": "display_data"
    }
   ],
   "source": [
    "plt.hist(pear_array[0].ravel());"
   ]
  },
  {
   "cell_type": "code",
   "execution_count": 14,
   "metadata": {},
   "outputs": [
    {
     "name": "stdout",
     "output_type": "stream",
     "text": [
      "(44, 448)\n"
     ]
    }
   ],
   "source": [
    "# RESHAPED PEAR ARRAY BELOW\n",
    "pear_array_reshape = np.reshape(pear_array, (44, feature_h*feature_w*feature_c))\n",
    "print(pear_array_reshape.shape)"
   ]
  },
  {
   "cell_type": "code",
   "execution_count": 15,
   "metadata": {},
   "outputs": [
    {
     "name": "stdout",
     "output_type": "stream",
     "text": [
      "44\n",
      "448\n"
     ]
    }
   ],
   "source": [
    "n_batch, n_mem = pear_array_reshape.shape\n",
    "print(n_batch)\n",
    "print(n_mem)"
   ]
  },
  {
   "cell_type": "code",
   "execution_count": 16,
   "metadata": {},
   "outputs": [],
   "source": [
    "path = 'Data/TSMC_PCM_New_2_Clipped.pkl'\n",
    "vs, mus, sigs, orig_min_Vs, orig_max_Vs, orig_min_Rs, orig_max_Rs = get_pcm_data(path, \n",
    "                                                                               n_mem, \n",
    "                                                                               norm_min=3.97, \n",
    "                                                                               norm_max=6.7)"
   ]
  },
  {
   "cell_type": "code",
   "execution_count": 17,
   "metadata": {},
   "outputs": [],
   "source": [
    "# 20190814: NEED TO GET MIN AND MAX OF ARRAY FROM XIN IN ORDER TO DO THE PROPER NORMALIZATION "
   ]
  },
  {
   "cell_type": "code",
   "execution_count": 18,
   "metadata": {},
   "outputs": [
    {
     "name": "stdout",
     "output_type": "stream",
     "text": [
      "(75, 448)\n",
      "(75, 448)\n",
      "(75, 448)\n"
     ]
    }
   ],
   "source": [
    "# (n_p, n_mem)\n",
    "print(vs.shape)\n",
    "print(mus.shape)\n",
    "print(sigs.shape)"
   ]
  },
  {
   "cell_type": "code",
   "execution_count": 19,
   "metadata": {},
   "outputs": [
    {
     "data": {
      "text/plain": [
       "<matplotlib.collections.PathCollection at 0x1159b8cf8>"
      ]
     },
     "execution_count": 19,
     "metadata": {},
     "output_type": "execute_result"
    },
    {
     "data": {
      "image/png": "[encoded data removed]",
      "text/plain": [
       "<matplotlib.figure.Figure at 0x123204780>"
      ]
     },
     "metadata": {},
     "output_type": "display_data"
    }
   ],
   "source": [
    "plt.scatter(vs[:,0], mus[:,0])\n",
    "plt.scatter(pear_array_reshape[0], [3.97]*pear_array_reshape.shape[1])"
   ]
  },
  {
   "cell_type": "code",
   "execution_count": 20,
   "metadata": {},
   "outputs": [],
   "source": [
    "interp_width = vs[1, 0] - vs[0, 0]"
   ]
  },
  {
   "cell_type": "code",
   "execution_count": 21,
   "metadata": {},
   "outputs": [],
   "source": [
    "# 20190821: let's try drifting some test values from the array Xin sent (use 3.97 - 6.7)\n",
    "#  - first create function to implement drift "
   ]
  },
  {
   "cell_type": "code",
   "execution_count": 75,
   "metadata": {},
   "outputs": [],
   "source": [
    "# NEXT: pull out v_gauss func and plot to see what this looks like (why are we not getting in negative values?)"
   ]
  },
  {
   "cell_type": "code",
   "execution_count": 33,
   "metadata": {},
   "outputs": [],
   "source": [
    "def drift_Rs(Rs_array, t, vs, mus, sigs, interp_width, n_batch, n_mem):\n",
    "    \n",
    "#     eps = np.random.normal(size=n_batch*n_mem)\n",
    "#     eps = np.reshape(eps, (n_batch, n_mem))\n",
    "#     v_gauss = memristor_output(Rs_array, eps, vs, mus, sigs, interp_width)\n",
    "    Rs_array_reshape = Rs_array.ravel()\n",
    "    mu_gauss = 0.039*Rs_array_reshape-0.155\n",
    "    sig_gauss = 0.018*Rs_array_reshape-0.075\n",
    "    v_gauss = mu_gauss+sig_gauss*np.random.normal(size=len(Rs_array_reshape))\n",
    "    # Rs_arryay has already gone through np.log10()\n",
    "    return np.reshape(Rs_array_reshape+v_gauss*np.log10(t), (n_batch, n_mem))"
   ]
  },
  {
   "cell_type": "code",
   "execution_count": 57,
   "metadata": {},
   "outputs": [],
   "source": [
    "def hours_to_secs(hours):\n",
    "    return(hours*60*60)"
   ]
  },
  {
   "cell_type": "code",
   "execution_count": 78,
   "metadata": {},
   "outputs": [],
   "source": [
    "num_hours = 12"
   ]
  },
  {
   "cell_type": "code",
   "execution_count": 71,
   "metadata": {},
   "outputs": [],
   "source": [
    "R_drift = drift_Rs(pear_array_reshape, hours_to_secs(num_hours), vs, mus, sigs, interp_width, n_batch, n_mem)"
   ]
  },
  {
   "cell_type": "code",
   "execution_count": 72,
   "metadata": {
    "scrolled": false
   },
   "outputs": [],
   "source": [
    "# with tf.Session() as sess:\n",
    "#     R_drift = sess.run(drift_Rs(pear_array_reshape, 2.0, vs, mus, sigs, interp_width, n_batch, n_mem))"
   ]
  },
  {
   "cell_type": "code",
   "execution_count": 73,
   "metadata": {},
   "outputs": [
    {
     "data": {
      "text/plain": [
       "(44, 448)"
      ]
     },
     "execution_count": 73,
     "metadata": {},
     "output_type": "execute_result"
    }
   ],
   "source": [
    "R_drift.shape"
   ]
  },
  {
   "cell_type": "code",
   "execution_count": 90,
   "metadata": {},
   "outputs": [
    {
     "data": {
      "text/plain": [
       "<matplotlib.legend.Legend at 0x1232a50f0>"
      ]
     },
     "execution_count": 90,
     "metadata": {},
     "output_type": "execute_result"
    },
    {
     "data": {
      "image/png": "[encoded data removed]",
      "text/plain": [
       "<matplotlib.figure.Figure at 0x1240d9588>"
      ]
     },
     "metadata": {},
     "output_type": "display_data"
    }
   ],
   "source": [
    "plt.hist(R_drift[0], label=\"Drifted Values\", alpha=0.7);\n",
    "plt.hist(pear_array_reshape[0], label=\"Original Values\", alpha=0.7);\n",
    "plt.title(\"Resistance Values drifted by {} hrs\".format(num_hours))\n",
    "plt.xlabel(r\"$\\log(R)$\")\n",
    "plt.ylabel(\"Counts\")\n",
    "plt.legend()"
   ]
  },
  {
   "cell_type": "code",
   "execution_count": 92,
   "metadata": {},
   "outputs": [
    {
     "data": {
      "image/png": "[encoded data removed]",
      "text/plain": [
       "<matplotlib.figure.Figure at 0x12547b278>"
      ]
     },
     "metadata": {},
     "output_type": "display_data"
    },
    {
     "data": {
      "image/png": "[encoded data removed]",
      "text/plain": [
       "<matplotlib.figure.Figure at 0x125644320>"
      ]
     },
     "metadata": {},
     "output_type": "display_data"
    },
    {
     "data": {
      "image/png": "[encoded data removed]",
      "text/plain": [
       "<matplotlib.figure.Figure at 0x124f89080>"
      ]
     },
     "metadata": {},
     "output_type": "display_data"
    },
    {
     "data": {
      "image/png": "[encoded data removed]",
      "text/plain": [
       "<matplotlib.figure.Figure at 0x125644a20>"
      ]
     },
     "metadata": {},
     "output_type": "display_data"
    },
    {
     "data": {
      "image/png": "[encoded data removed]",
      "text/plain": [
       "<matplotlib.figure.Figure at 0x12532f400>"
      ]
     },
     "metadata": {},
     "output_type": "display_data"
    },
    {
     "data": {
      "image/png": "[encoded data removed]",
      "text/plain": [
       "<matplotlib.figure.Figure at 0x12563ef28>"
      ]
     },
     "metadata": {},
     "output_type": "display_data"
    }
   ],
   "source": [
    "for i in [1, 2, 4, 8, 12, 24]:\n",
    "    num_hours = i\n",
    "    R_drift_new = drift_Rs(pear_array_reshape, hours_to_secs(num_hours), vs, mus, sigs, interp_width, n_batch, n_mem)\n",
    "    plt.figure()\n",
    "    plt.hist(R_drift_new[0], label=\"Drifted Values\", alpha=0.7);\n",
    "    plt.hist(pear_array_reshape[0], label=\"Original Values\", alpha=0.7);\n",
    "    plt.title(\"Resistance Values drifted by {} hrs\".format(num_hours))\n",
    "    plt.xlabel(r\"$\\log(R)$\")\n",
    "    plt.ylabel(\"Counts\")\n",
    "    plt.legend()\n",
    "    plt.savefig(\"Drifting_Pear/Pear_Drift_Hist_20190903_{}_hrs.png\".format(num_hours))"
   ]
  },
  {
   "cell_type": "code",
   "execution_count": 25,
   "metadata": {
    "scrolled": false
   },
   "outputs": [],
   "source": [
    "with tf.Session() as sess:\n",
    "    interp_mus  = sess.run(gauss_interp(v, vs, mus, interp_width))\n",
    "    interp_sigs = sess.run(gauss_interp(v, vs, sigs, interp_width))"
   ]
  },
  {
   "cell_type": "code",
   "execution_count": 26,
   "metadata": {},
   "outputs": [
    {
     "data": {
      "text/plain": [
       "(3, 10)"
      ]
     },
     "execution_count": 26,
     "metadata": {},
     "output_type": "execute_result"
    }
   ],
   "source": [
    "interp_mus.shape"
   ]
  },
  {
   "cell_type": "code",
   "execution_count": 27,
   "metadata": {},
   "outputs": [
    {
     "data": {
      "text/plain": [
       "<matplotlib.collections.PathCollection at 0x11564bfd0>"
      ]
     },
     "execution_count": 27,
     "metadata": {},
     "output_type": "execute_result"
    },
    {
     "data": {
      "image/png": "[encoded data removed]",
      "text/plain": [
       "<matplotlib.figure.Figure at 0x1154f8d30>"
      ]
     },
     "metadata": {},
     "output_type": "display_data"
    }
   ],
   "source": [
    "plt.figure(figsize = (10,10))\n",
    "plt.scatter(vs[:, 0], mus[:,0])\n",
    "plt.scatter(vs[19, 0], mus[19, 0], c=\"red\")\n",
    "plt.scatter(vs[20, 0], mus[20, 0], c=\"red\")\n",
    "plt.scatter(v[:,0], interp_mus[:, 0], c=\"green\")"
   ]
  },
  {
   "cell_type": "code",
   "execution_count": 28,
   "metadata": {},
   "outputs": [
    {
     "data": {
      "text/plain": [
       "<matplotlib.collections.PathCollection at 0x1158b0518>"
      ]
     },
     "execution_count": 28,
     "metadata": {},
     "output_type": "execute_result"
    },
    {
     "data": {
      "image/png": "[encoded data removed]",
      "text/plain": [
       "<matplotlib.figure.Figure at 0x1156625f8>"
      ]
     },
     "metadata": {},
     "output_type": "display_data"
    }
   ],
   "source": [
    "plt.figure(figsize = (10,10))\n",
    "plt.scatter(vs[:, 0], sigs[:,0])\n",
    "plt.scatter(vs[19, 0], sigs[19, 0], c=\"red\")\n",
    "plt.scatter(vs[20, 0], sigs[20, 0], c=\"red\")\n",
    "plt.scatter(v[:,0], interp_sigs[:, 0], c=\"green\")"
   ]
  },
  {
   "cell_type": "code",
   "execution_count": null,
   "metadata": {},
   "outputs": [],
   "source": []
  }
 ],
 "metadata": {
  "kernelspec": {
   "display_name": "Python 3",
   "language": "python",
   "name": "python3"
  },
  "language_info": {
   "codemirror_mode": {
    "name": "ipython",
    "version": 3
   },
   "file_extension": ".py",
   "mimetype": "text/x-python",
   "name": "python",
   "nbconvert_exporter": "python",
   "pygments_lexer": "ipython3",
   "version": "3.6.0"
  }
 },
 "nbformat": 4,
 "nbformat_minor": 2
}
