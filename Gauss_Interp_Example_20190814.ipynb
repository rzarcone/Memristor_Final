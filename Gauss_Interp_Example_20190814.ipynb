{
 "cells": [
  {
   "cell_type": "code",
   "execution_count": 1,
   "metadata": {},
   "outputs": [],
   "source": [
    "import numpy as np\n",
    "import matplotlib.pyplot as plt\n",
    "import tensorflow as tf\n",
    "import pandas as pd\n",
    "import blahut"
   ]
  },
  {
   "cell_type": "code",
   "execution_count": 2,
   "metadata": {},
   "outputs": [],
   "source": [
    "def get_raw_data(path):\n",
    "    \"\"\"\n",
    "    Load raw data from a path.\n",
    "    Parameters\n",
    "    ----------\n",
    "    path : str\n",
    "        Absolute path to the data.\n",
    "    Returns\n",
    "    -------\n",
    "    Vs : np.array, shape (len(data),)\n",
    "    Rs : np.array, shape (len(data),)\n",
    "    \"\"\"\n",
    "    data = pd.read_pickle(path)\n",
    "    Vs = np.array(data['V'])\n",
    "    Rs = np.array(data['R'])\n",
    "    return Vs,Rs\n",
    "\n",
    "def range_extender(Vs, Rs, num_ext):\n",
    "    \"\"\"\n",
    "    Extends the range of the memristor function so that the min and max R values are\n",
    "    repeated num_ext times past min and max V\n",
    "    Parameters\n",
    "    ----------\n",
    "    Vs : np.array, shape (len(data),)\n",
    "    Rs : np.array, shape (len(data),)\n",
    "    num_ext : float\n",
    "        Number of times the end values should be repeated\n",
    "    \"\"\"\n",
    "    num_ext = int(num_ext)\n",
    "    Vs = np.array(Vs)\n",
    "    Rs = np.array(Rs)\n",
    "    delta_V = Vs[1]-Vs[0]\n",
    "    orig_min_Vs = np.amin(Vs)\n",
    "    orig_max_Vs = np.amax(Vs)\n",
    "    for i in range(num_ext):\n",
    "        min_Vs = np.amin(Vs)\n",
    "        max_Vs = np.amax(Vs)\n",
    "        min_Vs_indx = [Vs == min_Vs]\n",
    "        max_Vs_indx = [Vs == max_Vs]\n",
    "        Rs_min = Rs[tuple(min_Vs_indx)]\n",
    "        Rs_max = Rs[tuple(max_Vs_indx)]\n",
    "        Vs_min = Vs[tuple(min_Vs_indx)] - delta_V\n",
    "        Vs_max = Vs[tuple(max_Vs_indx)] + delta_V\n",
    "        Vs = np.append(Vs,Vs_min)\n",
    "        Vs = np.append(Vs,Vs_max)\n",
    "        Rs = np.append(Rs,Rs_min)\n",
    "        Rs = np.append(Rs,Rs_max)\n",
    "    return Vs, Rs, orig_min_Vs, orig_max_Vs\n",
    "\n",
    "def normalizer(x,new_min,new_max):\n",
    "    x_max = np.amax(x)\n",
    "    x_min = np.amin(x)\n",
    "\n",
    "    return (((x-x_min)/(x_max-x_min))*(new_max-new_min)+new_min)"
   ]
  },
  {
   "cell_type": "code",
   "execution_count": 3,
   "metadata": {},
   "outputs": [],
   "source": [
    "def get_pcm_data(path, n_mem, num_ext=5, norm_min=-1., norm_max=1., synthetic_noise=None):\n",
    "    \"\"\"\n",
    "    Parameters\n",
    "    ----------\n",
    "    path : str\n",
    "        Absolute path to the data.\n",
    "    n_mem : float\n",
    "        Number of memristors we want to simulate\n",
    "    num_ext : float\n",
    "        Number of times the end values should be repeated (see range_extender)\n",
    "    Returns\n",
    "    -------\n",
    "    vs : np.array, shape (n_samp, n_mem)\n",
    "    mus : np.array, shape (n_samp, n_mem)\n",
    "    sigs : np.array, shape (n_samp, n_mem)\n",
    "    orig_min_Vs : float\n",
    "    orig_max_Vs : float\n",
    "    \"\"\"\n",
    "    Vs,Rs = get_raw_data(path)\n",
    "    Rs = np.log10(Rs)\n",
    "    Vs = np.array(Vs)\n",
    "    Rs = np.array(Rs)\n",
    "\n",
    "    orig_min_Vs = np.amin(Vs)\n",
    "    orig_max_Vs = np.amax(Vs)\n",
    "    orig_min_Rs = np.amin(Rs)\n",
    "    orig_max_Rs = np.amax(Rs)\n",
    "\n",
    "    Vs = normalizer(Vs,norm_min,norm_max)\n",
    "    Rs = normalizer(Rs,norm_min,norm_max)\n",
    "\n",
    "    Vs, Rs, _, _ = range_extender(Vs,Rs,num_ext)\n",
    "\n",
    "    mus, variances, vs = blahut.moments(Vs,Rs)\n",
    "    sigs = np.sqrt(variances)\n",
    "\n",
    "\n",
    "    vs = np.broadcast_to(vs[:,None], (vs.size, n_mem)).astype(np.float32)\n",
    "    mus = np.broadcast_to(mus[:,None], (mus.size, n_mem)).astype(np.float32)\n",
    "    sigs = np.broadcast_to(sigs[:,None], (sigs.size, n_mem)).astype(np.float32)\n",
    "\n",
    "    return vs, mus, sigs, orig_min_Vs, orig_max_Vs, orig_min_Rs, orig_max_Rs"
   ]
  },
  {
   "cell_type": "code",
   "execution_count": 4,
   "metadata": {},
   "outputs": [],
   "source": [
    "def gauss_interp(samp, xs, ys, interp_width, ratio=0.75):\n",
    "    \"\"\"\n",
    "    Smoothly interpolates between samples\n",
    "    Parameters\n",
    "    ----------\n",
    "    samp : tf.tensor (batch_size, n_m)\n",
    "    xs : tf.tensor (n_p, n_m)\n",
    "        Grid inputs\n",
    "    ys : tf.tensor (n_p, n_m)\n",
    "        Grid outputs\n",
    "    interp_width : float\n",
    "        Spacing between the xs\n",
    "    Returns\n",
    "    -------\n",
    "    interp_func : tf.tensor (batch_size, n_m)\n",
    "    \"\"\"\n",
    "    #samp_shape = samp.get_shape()\n",
    "    samp = tf.cast(tf.expand_dims(samp, 1), tf.float32)\n",
    "    xs = tf.cast(tf.expand_dims(xs, 0), tf.float32)  # (1, n_p, n_m)\n",
    "    ys = tf.cast(tf.expand_dims(ys, 0), tf.float32)  # (1, n_p, n_m)\n",
    "    sig = (ratio * interp_width).astype(np.float32) # spacing of xs\n",
    "    norm_factor = (np.sqrt(2 * np.pi) * sig / interp_width).astype(np.float32)\n",
    "    norm_factor = np.array(norm_factor, dtype=np.float32)\n",
    "    gauss_mean = tf.subtract(samp, xs)\n",
    "    gauss = tf.exp(tf.multiply(-0.5, tf.divide(tf.square(gauss_mean), tf.square(sig))))\n",
    "    output = tf.reduce_sum(tf.multiply(tf.divide(ys, norm_factor), gauss), axis=[1])\n",
    "    return output\n",
    "\n",
    "# def gauss_interp(samp, xs, ys, interp_width, ratio=0.75):\n",
    "#     \"\"\"\n",
    "#     Parameters\n",
    "#     ----------\n",
    "#     samp : tf.tensor (batch_size, n_m)\n",
    "\n",
    "#     xs : tf.tensor (n_p, n_m)\n",
    "#         Grid inputs\n",
    "#     ys : tf.tensor (n_p, n_m)\n",
    "#         Grid outputs\n",
    "#     interp_width : float\n",
    "#         Spacing between the xs\n",
    "\n",
    "#     Returns\n",
    "#     -------\n",
    "#     interp_func : tf.tensor (batch_size, n_m)\n",
    "#     \"\"\"\n",
    "#     samp = tf.expand_dims(samp, 1)  # (batch, 1, n_m)\n",
    "#     xs = tf.expand_dims(xs, 0)  # (1, n_p, n_m)\n",
    "#     ys = tf.expand_dims(ys, 0)  # (1, n_p, n_m)\n",
    "#     sig = ratio * interp_width  # spacing of xs\n",
    "#     norm_factor = np.sqrt(2 * np.pi) * sig / interp_width\n",
    "#     norm_factor = np.array(norm_factor, dtype='float32')\n",
    "#     return tf.reduce_sum(ys * tf.exp( -0.5 * (samp - xs) ** 2 / sig ** 2) /\n",
    "#                          norm_factor,\n",
    "#                   reduction_indices=1)\n",
    "\n",
    "def memristor_output(v, eps, vs, mus, sigs, interp_width):\n",
    "    \"\"\"\n",
    "    Parameters\n",
    "    ----------\n",
    "    mu, sig, eps : tf.tensor (batch_size, n_m)\n",
    "        mean, standard deviation, noise\n",
    "\n",
    "    \"\"\"\n",
    "    mean = gauss_interp(v, vs, mus, interp_width)\n",
    "    sdev = gauss_interp(v, vs, sigs, interp_width)\n",
    "    return mean + eps * sdev"
   ]
  },
  {
   "cell_type": "code",
   "execution_count": 5,
   "metadata": {},
   "outputs": [],
   "source": [
    "path = 'Data/TSMC_PCM_New_2_Clipped.pkl'\n",
    "n_mem = 10\n",
    "\n",
    "vs, mus, sigs, orig_min_Vs, orig_max_Vs, orig_min_Rs, orig_max_Rs = get_pcm_data(path, n_mem)"
   ]
  },
  {
   "cell_type": "code",
   "execution_count": 6,
   "metadata": {},
   "outputs": [
    {
     "data": {
      "text/plain": [
       "<matplotlib.collections.PathCollection at 0x109ca7908>"
      ]
     },
     "execution_count": 6,
     "metadata": {},
     "output_type": "execute_result"
    },
    {
     "data": {
      "image/png": "[encoded data removed]",
      "text/plain": [
       "<matplotlib.figure.Figure at 0x11c1dad68>"
      ]
     },
     "metadata": {},
     "output_type": "display_data"
    }
   ],
   "source": [
    "plt.figure(figsize = (10,10))\n",
    "plt.scatter(vs[:, 0], mus[:,0])\n",
    "plt.scatter(vs[19, 0], mus[19, 0], c=\"red\")\n",
    "plt.scatter(vs[20, 0], mus[20, 0], c=\"red\")"
   ]
  },
  {
   "cell_type": "code",
   "execution_count": 7,
   "metadata": {},
   "outputs": [
    {
     "data": {
      "text/plain": [
       "<matplotlib.collections.PathCollection at 0x11c1f0ba8>"
      ]
     },
     "execution_count": 7,
     "metadata": {},
     "output_type": "execute_result"
    },
    {
     "data": {
      "image/png": "[encoded data removed]",
      "text/plain": [
       "<matplotlib.figure.Figure at 0x11c1da978>"
      ]
     },
     "metadata": {},
     "output_type": "display_data"
    }
   ],
   "source": [
    "plt.figure(figsize = (10,10))\n",
    "plt.scatter(vs[:, 0], sigs[:,0])\n",
    "plt.scatter(vs[19, 0], sigs[19, 0], c=\"red\")\n",
    "plt.scatter(vs[20, 0], sigs[20, 0], c=\"red\")"
   ]
  },
  {
   "cell_type": "code",
   "execution_count": 8,
   "metadata": {},
   "outputs": [
    {
     "name": "stdout",
     "output_type": "stream",
     "text": [
      "[-0.5546875 -0.546875  -0.5390625]\n",
      "-0.5625 -0.53125\n"
     ]
    },
    {
     "data": {
      "text/plain": [
       "(3, 10)"
      ]
     },
     "execution_count": 8,
     "metadata": {},
     "output_type": "execute_result"
    }
   ],
   "source": [
    "# pick 3 intermediate v vals to use \n",
    "v = np.linspace(vs[19, 0], vs[20, 0], 5)[1:4]\n",
    "print(v)\n",
    "print(vs[19,0],vs[20,0])\n",
    "\n",
    "# (batch, n_mem)\n",
    "v = np.array([v]*n_mem).T\n",
    "v.shape"
   ]
  },
  {
   "cell_type": "code",
   "execution_count": 9,
   "metadata": {},
   "outputs": [
    {
     "name": "stdout",
     "output_type": "stream",
     "text": [
      "(75, 10)\n",
      "(75, 10)\n"
     ]
    }
   ],
   "source": [
    "# (n_p, n_mem)\n",
    "print(vs.shape)\n",
    "print(mus.shape)"
   ]
  },
  {
   "cell_type": "code",
   "execution_count": 10,
   "metadata": {},
   "outputs": [
    {
     "name": "stdout",
     "output_type": "stream",
     "text": [
      "(3, 10)\n"
     ]
    }
   ],
   "source": [
    "# (batch, n_mem)\n",
    "eps = np.zeros((3,n_mem))\n",
    "print(eps.shape)"
   ]
  },
  {
   "cell_type": "code",
   "execution_count": 11,
   "metadata": {},
   "outputs": [],
   "source": [
    "interp_width = vs[1, 0] - vs[0, 0]"
   ]
  },
  {
   "cell_type": "code",
   "execution_count": 16,
   "metadata": {
    "scrolled": false
   },
   "outputs": [],
   "source": [
    "with tf.Session() as sess:\n",
    "    interp_mus  = sess.run(gauss_interp(v, vs, mus, interp_width))\n",
    "    interp_sigs = sess.run(gauss_interp(v, vs, sigs, interp_width))"
   ]
  },
  {
   "cell_type": "code",
   "execution_count": 17,
   "metadata": {},
   "outputs": [
    {
     "data": {
      "text/plain": [
       "(3, 10)"
      ]
     },
     "execution_count": 17,
     "metadata": {},
     "output_type": "execute_result"
    }
   ],
   "source": [
    "interp_mus.shape"
   ]
  },
  {
   "cell_type": "code",
   "execution_count": 18,
   "metadata": {},
   "outputs": [
    {
     "data": {
      "text/plain": [
       "<matplotlib.collections.PathCollection at 0x11f901a58>"
      ]
     },
     "execution_count": 18,
     "metadata": {},
     "output_type": "execute_result"
    },
    {
     "data": {
      "image/png": "[encoded data removed]",
      "text/plain": [
       "<matplotlib.figure.Figure at 0x11ff76710>"
      ]
     },
     "metadata": {},
     "output_type": "display_data"
    }
   ],
   "source": [
    "plt.figure(figsize = (10,10))\n",
    "plt.scatter(vs[:, 0], mus[:,0])\n",
    "plt.scatter(vs[19, 0], mus[19, 0], c=\"red\")\n",
    "plt.scatter(vs[20, 0], mus[20, 0], c=\"red\")\n",
    "plt.scatter(v[:,0], interp_mus[:, 0], c=\"green\")"
   ]
  },
  {
   "cell_type": "code",
   "execution_count": 19,
   "metadata": {},
   "outputs": [
    {
     "data": {
      "text/plain": [
       "<matplotlib.collections.PathCollection at 0x11fbbd6d8>"
      ]
     },
     "execution_count": 19,
     "metadata": {},
     "output_type": "execute_result"
    },
    {
     "data": {
      "image/png": "[encoded data removed]",
      "text/plain": [
       "<matplotlib.figure.Figure at 0x11ff760b8>"
      ]
     },
     "metadata": {},
     "output_type": "display_data"
    }
   ],
   "source": [
    "plt.figure(figsize = (10,10))\n",
    "plt.scatter(vs[:, 0], sigs[:,0])\n",
    "plt.scatter(vs[19, 0], sigs[19, 0], c=\"red\")\n",
    "plt.scatter(vs[20, 0], sigs[20, 0], c=\"red\")\n",
    "plt.scatter(v[:,0], interp_sigs[:, 0], c=\"green\")"
   ]
  },
  {
   "cell_type": "code",
   "execution_count": null,
   "metadata": {},
   "outputs": [],
   "source": []
  }
 ],
 "metadata": {
  "kernelspec": {
   "display_name": "Python 3",
   "language": "python",
   "name": "python3"
  },
  "language_info": {
   "codemirror_mode": {
    "name": "ipython",
    "version": 3
   },
   "file_extension": ".py",
   "mimetype": "text/x-python",
   "name": "python",
   "nbconvert_exporter": "python",
   "pygments_lexer": "ipython3",
   "version": "3.6.0"
  }
 },
 "nbformat": 4,
 "nbformat_minor": 2
}
